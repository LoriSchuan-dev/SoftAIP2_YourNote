{
 "cells": [
  {
   "cell_type": "code",
   "execution_count": 1,
   "metadata": {},
   "outputs": [
    {
     "name": "stdout",
     "output_type": "stream",
     "text": [
      "This course is a high-level overview of artificial intelligence (AI) for people with little or no knowledge of computer science and statistics. In it we’ll cover the essential concepts of AI and show you how to apply custom AI solutions with free, easy to use tools, all in your browser.The course will show you some some simple but powerful ways that data scientists make predictions about objects, people, and the future. Later, we’ll cover exciting, complex topics you may have heard of, such as neural networks, computer vision, deep learning, and unsupervised learning.In this lesson we’ll introduce you to some key concepts and get you trying out some AI tools.AI is the study of how to make computers perform tasks that humans consider difficult through the creation of intelligent agents. The study of AI began in the 1950s, and it has improved dramatically over time with better statistical methods and greater computing power.AI is now used for all sorts of things, such as intelligent opponents in video games, accurate medical diagnosis, speech commands on mobile phones, and keeping email inboxes clear of spam. People who use AI often want it to perform repetitive tasks that take a lot of time for a person to do, or to solve problems which seem almost impossible to solve with a calculator.\n",
      "\n",
      "           ###########      summary    ######### \n",
      "\n",
      "In it we’ll cover the essential concepts of AI and show you how to apply custom AI solutions with free, easy to use tools, all in your browser. People who use AI often want it to perform repetitive tasks that take a lot of time for a person to do, or to solve problems which seem almost impossible to solve with a calculator. AI is now used for all sorts of things, such as intelligent opponents in video games, accurate medical diagnosis, speech commands on mobile phones, and keeping email inboxes clear of spam.\n"
     ]
    },
    {
     "name": "stderr",
     "output_type": "stream",
     "text": [
      "C:\\Users\\voolo\\anaconda3\\lib\\site-packages\\sklearn\\utils\\deprecation.py:143: FutureWarning: The sklearn.feature_extraction.stop_words module is  deprecated in version 0.22 and will be removed in version 0.24. The corresponding classes / functions should instead be imported from sklearn.feature_extraction.text. Anything that cannot be imported from sklearn.feature_extraction.text is now part of the private API.\n",
      "  warnings.warn(message, FutureWarning)\n"
     ]
    }
   ],
   "source": [
    "from collections import Counter\n",
    "from string import punctuation\n",
    "from sklearn.feature_extraction.stop_words import ENGLISH_STOP_WORDS as stop_words\n",
    "\n",
    "text= \"This course is a high-level overview of artificial intelligence (AI) for people with little or no knowledge of computer science and statistics. In it we’ll cover the essential concepts of AI and show you how to apply custom AI solutions with free, easy to use tools, all in your browser.The course will show you some some simple but powerful ways that data scientists make predictions about objects, people, and the future. Later, we’ll cover exciting, complex topics you may have heard of, such as neural networks, computer vision, deep learning, and unsupervised learning.In this lesson we’ll introduce you to some key concepts and get you trying out some AI tools.AI is the study of how to make computers perform tasks that humans consider difficult through the creation of intelligent agents. The study of AI began in the 1950s, and it has improved dramatically over time with better statistical methods and greater computing power.AI is now used for all sorts of things, such as intelligent opponents in video games, accurate medical diagnosis, speech commands on mobile phones, and keeping email inboxes clear of spam. People who use AI often want it to perform repetitive tasks that take a lot of time for a person to do, or to solve problems which seem almost impossible to solve with a calculator.\"\n",
    "print(text)\n",
    "# tokenize the words\n",
    "def tokenizer(s):\n",
    "    tokens = []\n",
    "    for word in s.split(' '):\n",
    "        tokens.append(word.strip().lower())\n",
    "    return tokens\n",
    "# tokenize the sentences\n",
    "def sent_tokenizer(s):\n",
    "    sents = []\n",
    "    for sent in s.split('.'):\n",
    "        sents.append(sent.strip())\n",
    "    return sents\n",
    "\n",
    "tokens = tokenizer(text)\n",
    "sentences = sent_tokenizer(text)\n",
    "\n",
    "# count the words\n",
    "word_counts = {}\n",
    "for token in tokens:\n",
    "    if token not in stop_words and token not in punctuation:\n",
    "        if token not in word_counts.keys():\n",
    "            word_counts[token] = 1\n",
    "        else:\n",
    "            word_counts[token] += 1\n",
    "# build a word frequency distribution\n",
    "freq_dist = {}\n",
    "max_freq = max(word_counts.values())\n",
    "for word in word_counts.keys():  \n",
    "    freq_dist[word] = (word_counts[word]/max_freq)\n",
    "   \n",
    "# score sentences by using the frequency distribution\n",
    "def score_sentences(sentences, freq_dist, max_len=40):\n",
    "    sentences_scores = {}  \n",
    "    for sentence in sentences:\n",
    "        words = sentence.split(' ')\n",
    "        for word in words:\n",
    "            if word.lower() in freq_dist.keys():\n",
    "                if len(words) < max_len:\n",
    "                    if sentence not in sentences_scores.keys():\n",
    "                        sentences_scores[sentence] = freq_dist[word.lower()]\n",
    "                    else:\n",
    "                        sentences_scores[sentence] += freq_dist[word.lower()]\n",
    "    return sentences_scores\n",
    "\n",
    "sentences_scores = score_sentences(sentences, freq_dist)\n",
    "\n",
    "#select the top k sentences to represent the summary of the article\n",
    "def summarize(sentences_scores, k):\n",
    "    top_sents = Counter(sentences_scores)\n",
    "    summary = ''\n",
    "    scores = []\n",
    "   \n",
    "    top = top_sents.most_common(k)\n",
    "    for t in top:\n",
    "        summary += t[0].strip()+'. '\n",
    "        scores.append((t[1], t[0]))\n",
    "    return summary[:-1], scores\n",
    "\n",
    "summary, summary_sent_scores = summarize(sentences_scores, 3)\n",
    "print('\\n','          ###########      summary    #########', '\\n')\n",
    "print(summary)\n",
    "\n",
    "#for score in summary_sent_scores: print(score[0], '->', score[1], '\\n')"
   ]
  },
  {
   "cell_type": "code",
   "execution_count": null,
   "metadata": {},
   "outputs": [],
   "source": []
  }
 ],
 "metadata": {
  "kernelspec": {
   "display_name": "Python 3",
   "language": "python",
   "name": "python3"
  },
  "language_info": {
   "codemirror_mode": {
    "name": "ipython",
    "version": 3
   },
   "file_extension": ".py",
   "mimetype": "text/x-python",
   "name": "python",
   "nbconvert_exporter": "python",
   "pygments_lexer": "ipython3",
   "version": "3.8.3"
  }
 },
 "nbformat": 4,
 "nbformat_minor": 4
}
