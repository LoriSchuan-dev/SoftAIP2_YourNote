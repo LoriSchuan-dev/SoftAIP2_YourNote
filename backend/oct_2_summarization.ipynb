{
 "cells": [
  {
   "cell_type": "code",
   "execution_count": 125,
   "metadata": {},
   "outputs": [
    {
     "name": "stdout",
     "output_type": "stream",
     "text": [
      "This course is a high-level overview of artificial intelligence (AI) for people with little or no knowledge of computer science and statistics. In it we’ll cover the essential concepts of AI and show you how to apply custom AI solutions with free, easy to use tools, all in your browser.The course will show you some some simple but powerful ways that data scientists make predictions about objects, people, and the future. Later, we’ll cover exciting, complex topics you may have heard of, such as neural networks, computer vision, deep learning, and unsupervised learning.In this lesson we’ll introduce you to some key concepts and get you trying out some AI tools.AI is the study of how to make computers perform tasks that humans consider difficult through the creation of intelligent agents. The study of AI began in the 1950s, and it has improved dramatically over time with better statistical methods and greater computing power.AI is now used for all sorts of things, such as intelligent opponents in video games, accurate medical diagnosis, speech commands on mobile phones, and keeping email inboxes clear of spam. People who use AI often want it to perform repetitive tasks that take a lot of time for a person to do, or to solve problems which seem almost impossible to solve with a calculator.\n"
     ]
    }
   ],
   "source": [
    "text= \"This course is a high-level overview of artificial intelligence (AI) for people with little or no knowledge of computer science and statistics. In it we’ll cover the essential concepts of AI and show you how to apply custom AI solutions with free, easy to use tools, all in your browser.The course will show you some some simple but powerful ways that data scientists make predictions about objects, people, and the future. Later, we’ll cover exciting, complex topics you may have heard of, such as neural networks, computer vision, deep learning, and unsupervised learning.In this lesson we’ll introduce you to some key concepts and get you trying out some AI tools.AI is the study of how to make computers perform tasks that humans consider difficult through the creation of intelligent agents. The study of AI began in the 1950s, and it has improved dramatically over time with better statistical methods and greater computing power.AI is now used for all sorts of things, such as intelligent opponents in video games, accurate medical diagnosis, speech commands on mobile phones, and keeping email inboxes clear of spam. People who use AI often want it to perform repetitive tasks that take a lot of time for a person to do, or to solve problems which seem almost impossible to solve with a calculator.\"\n",
    "print(text)"
   ]
  },
  {
   "cell_type": "code",
   "execution_count": 126,
   "metadata": {},
   "outputs": [
    {
     "name": "stdout",
     "output_type": "stream",
     "text": [
      "{'thi': 2, 'cours': 2, 'high-level': 1, 'overview': 1, 'artifici': 1, 'intellig': 3, '(': 1, 'AI': 6, ')': 1, 'peopl': 3, 'littl': 1, 'knowledg': 1, 'comput': 4, 'scienc': 1, 'statist': 2, '.': 5, 'In': 1, '’': 3, 'cover': 2, 'essenti': 1, 'concept': 2, 'show': 2, 'appli': 1, 'custom': 1, 'solut': 1, 'free': 1, ',': 16, 'easi': 1, 'use': 3, 'tool': 1, 'browser.th': 1, 'simpl': 1, 'power': 1, 'way': 1, 'data': 1, 'scientist': 1, 'make': 2, 'predict': 1, 'object': 1, 'futur': 1, 'later': 1, 'excit': 1, 'complex': 1, 'topic': 1, 'may': 1, 'heard': 1, 'neural': 1, 'network': 1, 'vision': 1, 'deep': 1, 'learn': 1, 'unsupervis': 1, 'learning.in': 1, 'lesson': 1, 'introduc': 1, 'key': 1, 'get': 1, 'tri': 1, 'tools.ai': 1, 'studi': 2, 'perform': 2, 'task': 2, 'human': 1, 'consid': 1, 'difficult': 1, 'creation': 1, 'agent': 1, 'began': 1, '1950': 1, 'ha': 1, 'improv': 1, 'dramat': 1, 'time': 2, 'better': 1, 'method': 1, 'greater': 1, 'power.ai': 1, 'sort': 1, 'thing': 1, 'oppon': 1, 'video': 1, 'game': 1, 'accur': 1, 'medic': 1, 'diagnosi': 1, 'speech': 1, 'command': 1, 'mobil': 1, 'phone': 1, 'keep': 1, 'email': 1, 'inbox': 1, 'clear': 1, 'spam': 1, 'often': 1, 'want': 1, 'repetit': 1, 'take': 1, 'lot': 1, 'person': 1, 'solv': 2, 'problem': 1, 'seem': 1, 'almost': 1, 'imposs': 1, 'calcul': 1}\n"
     ]
    }
   ],
   "source": [
    "#Create the word frequency table\n",
    "from nltk.corpus import stopwords\n",
    "from nltk.tokenize import * #sent_tokenize\n",
    "from nltk.stem import PorterStemmer\n",
    "def create_frequency_table(text_string):\n",
    "    stopWords = set(stopwords.words(\"english\"))\n",
    "    words = word_tokenize(text_string)\n",
    "    ps = PorterStemmer()\n",
    "\n",
    "    freqTable = {}\n",
    "    for word in words:\n",
    "        word = ps.stem(word)\n",
    "        if word in stopWords:\n",
    "            continue\n",
    "        if word in freqTable:\n",
    "            freqTable[word] += 1\n",
    "        else:\n",
    "            freqTable[word] = 1\n",
    "    return freqTable\n",
    "\n",
    "ft =create_frequency_table(text)\n",
    "print(ft)"
   ]
  },
  {
   "cell_type": "code",
   "execution_count": 127,
   "metadata": {},
   "outputs": [],
   "source": [
    "#split the text into a set of sentences: tokenize the sentences    \n",
    "sentences = sent_tokenize(text)"
   ]
  },
  {
   "cell_type": "code",
   "execution_count": 128,
   "metadata": {},
   "outputs": [
    {
     "name": "stdout",
     "output_type": "stream",
     "text": [
      "{'This cours': 1, 'In it we’l': 0, 'Later, we’': 0, 'The study ': 1, 'People who': 1}\n"
     ]
    }
   ],
   "source": [
    "#score a sentence by its words, adding the frequency of every non-stop word in a sentence\n",
    "# to save memory, only take 1st 10 characters in each sentence\n",
    "def score_sentences(sentences, freqTable):\n",
    "    sentenceValue = {}\n",
    "    for sentence in sentences:\n",
    "        word_count_in_sentence = (len(word_tokenize(sentence)))\n",
    "        for wordValue in freqTable:\n",
    "            if wordValue in sentence.lower():\n",
    "                if sentence[:10] in sentenceValue:\n",
    "                    sentenceValue[sentence[:10]] += freqTable[wordValue]\n",
    "                else:\n",
    "                    sentenceValue[sentence[:10]] = freqTable[wordValue]\n",
    "\n",
    "        sentenceValue[sentence[:10]] = sentenceValue[sentence[:10]] // word_count_in_sentence\n",
    "\n",
    "    return sentenceValue\n",
    "ss = score_sentences(sentences, ft)\n",
    "print(ss)"
   ]
  },
  {
   "cell_type": "code",
   "execution_count": 129,
   "metadata": {},
   "outputs": [
    {
     "data": {
      "text/plain": [
       "0"
      ]
     },
     "execution_count": 129,
     "metadata": {},
     "output_type": "execute_result"
    }
   ],
   "source": [
    "# take the average score of the sentences as a threshold\n",
    "def find_average_score(sentenceValue):\n",
    "    sumValues = 0\n",
    "    for entry in sentenceValue:\n",
    "        sumValues += sentenceValue[entry]\n",
    "    # Average value of a sentence from original text\n",
    "    average = int(sumValues / len(sentenceValue))\n",
    "    return average\n",
    "threshold = find_average_score(ss)\n",
    "threshold"
   ]
  },
  {
   "cell_type": "code",
   "execution_count": 131,
   "metadata": {},
   "outputs": [
    {
     "name": "stdout",
     "output_type": "stream",
     "text": [
      " This course is a high-level overview of artificial intelligence (AI) for people with little or no knowledge of computer science and statistics. The study of AI began in the 1950s, and it has improved dramatically over time with better statistical methods and greater computing power.AI is now used for all sorts of things, such as intelligent opponents in video games, accurate medical diagnosis, speech commands on mobile phones, and keeping email inboxes clear of spam. People who use AI often want it to perform repetitive tasks that take a lot of time for a person to do, or to solve problems which seem almost impossible to solve with a calculator.\n"
     ]
    }
   ],
   "source": [
    "def generate_summary(sentences, sentenceValue, threshold):\n",
    "    sentence_count = 0\n",
    "    summary = ''\n",
    "    for sentence in sentences:\n",
    "        if sentence[:10] in sentenceValue and sentenceValue[sentence[:10]] > (threshold):\n",
    "            summary += \" \" + sentence\n",
    "            sentence_count += 1\n",
    "    return summary\n",
    "summarization = generate_summary(sentences, ss, threshold)\n",
    "print(summarization)"
   ]
  },
  {
   "cell_type": "code",
   "execution_count": null,
   "metadata": {},
   "outputs": [],
   "source": []
  }
 ],
 "metadata": {
  "kernelspec": {
   "display_name": "Python 3",
   "language": "python",
   "name": "python3"
  },
  "language_info": {
   "codemirror_mode": {
    "name": "ipython",
    "version": 3
   },
   "file_extension": ".py",
   "mimetype": "text/x-python",
   "name": "python",
   "nbconvert_exporter": "python",
   "pygments_lexer": "ipython3",
   "version": "3.7.1"
  }
 },
 "nbformat": 4,
 "nbformat_minor": 2
}
